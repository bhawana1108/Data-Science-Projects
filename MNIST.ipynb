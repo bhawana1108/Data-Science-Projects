{
 "cells": [
  {
   "cell_type": "code",
   "execution_count": 1,
   "id": "76996f3c",
   "metadata": {},
   "outputs": [],
   "source": [
    "import numpy as np\n",
    "import tensorflow as tf\n",
    "\n",
    "import tensorflow_datasets as tfds"
   ]
  },
  {
   "cell_type": "code",
   "execution_count": 2,
   "id": "5c2a59f8",
   "metadata": {},
   "outputs": [
    {
     "name": "stderr",
     "output_type": "stream",
     "text": [
      "WARNING:absl:Warning: Setting shuffle_files=True because split=TRAIN and shuffle_files=None. This behavior will be deprecated on 2019-08-06, at which point shuffle_files=False will be the default for all splits.\n"
     ]
    }
   ],
   "source": [
    "mnist_datasets, mnist_info = tfds.load(name='mnist',with_info=True, as_supervised=True )"
   ]
  },
  {
   "cell_type": "code",
   "execution_count": 3,
   "id": "3f46b4d0",
   "metadata": {},
   "outputs": [],
   "source": [
    "mnist_train, mnist_test = mnist_datasets['train'], mnist_datasets['test']\n",
    "\n",
    "num_validation_samples = 0.1* mnist_info.splits['train'].num_examples\n",
    "num_validation_samples = tf.cast(num_validation_samples, tf.int64)\n",
    "\n",
    "num_test_samples = mnist_info.splits['test'].num_examples\n",
    "num_test_samples = tf.cast(num_test_samples, tf.int64)\n",
    "\n",
    "def scale(image, label):\n",
    "    image = tf.cast(image,tf.float32)\n",
    "    image /=255.\n",
    "    return image, label\n",
    "\n",
    "\n",
    "scaled_train_and_validation_data = mnist_train.map(scale)\n",
    "\n",
    "test_data = mnist_test.map(scale)\n"
   ]
  },
  {
   "cell_type": "markdown",
   "id": "d7029412",
   "metadata": {},
   "source": [
    "## Shuffling and batching"
   ]
  },
  {
   "cell_type": "code",
   "execution_count": 4,
   "id": "e0e3fc1e",
   "metadata": {},
   "outputs": [],
   "source": [
    "BUFFER_SIZE = 10000\n",
    "\n",
    "shuffled_train_and_validation_data = scaled_train_and_validation_data.shuffle(BUFFER_SIZE)\n",
    "\n",
    "validation_data = shuffled_train_and_validation_data.take(num_validation_samples)\n",
    "train_data = shuffled_train_and_validation_data.skip(num_validation_samples)\n",
    "\n",
    "\n",
    "BATCH_SIZE = 100\n",
    "\n",
    "train_data = train_data.batch(BATCH_SIZE)\n",
    "validation_data = validation_data.batch(num_validation_samples)\n",
    "test_data = test_data.batch(num_test_samples)\n",
    "\n",
    "\n",
    "validation_inputs , validation_targets = next(iter(validation_data))\n",
    "\n"
   ]
  },
  {
   "cell_type": "markdown",
   "id": "73dc96ea",
   "metadata": {},
   "source": [
    "### Outline The MODEL"
   ]
  },
  {
   "cell_type": "code",
   "execution_count": 8,
   "id": "d8e824ab",
   "metadata": {},
   "outputs": [],
   "source": [
    "input_size = 784\n",
    "output_size = 10\n",
    "hidden_layer_size= 200\n",
    "\n",
    "\n",
    "model = tf.keras.Sequential([\n",
    "                            tf.keras.layers.Flatten(input_shape = (28,28,1)),\n",
    "                            tf.keras.layers.Dense(hidden_layer_size, activation='relu'),\n",
    "                            tf.keras.layers.Dense(hidden_layer_size, activation='relu'),\n",
    "                            tf.keras.layers.Dense(output_size, activation='softmax')\n",
    "                            ])"
   ]
  },
  {
   "cell_type": "markdown",
   "id": "86aacd9a",
   "metadata": {},
   "source": [
    "### Choose the optimizer and loss function"
   ]
  },
  {
   "cell_type": "code",
   "execution_count": 9,
   "id": "9199dd32",
   "metadata": {},
   "outputs": [],
   "source": [
    "model.compile(optimizer='adam',loss='sparse_categorical_crossentropy', metrics=['accuracy'])"
   ]
  },
  {
   "cell_type": "markdown",
   "id": "46d87441",
   "metadata": {},
   "source": [
    "## Training"
   ]
  },
  {
   "cell_type": "code",
   "execution_count": 10,
   "id": "ec20d657",
   "metadata": {},
   "outputs": [
    {
     "name": "stdout",
     "output_type": "stream",
     "text": [
      "Epoch 1/5\n",
      "540/540 - 11s - loss: 0.2757 - accuracy: 0.9207 - val_loss: 0.1403 - val_accuracy: 0.9600\n",
      "Epoch 2/5\n",
      "540/540 - 10s - loss: 0.1077 - accuracy: 0.9679 - val_loss: 0.0933 - val_accuracy: 0.9747\n",
      "Epoch 3/5\n",
      "540/540 - 11s - loss: 0.0709 - accuracy: 0.9785 - val_loss: 0.0765 - val_accuracy: 0.9777\n",
      "Epoch 4/5\n",
      "540/540 - 10s - loss: 0.0548 - accuracy: 0.9827 - val_loss: 0.0571 - val_accuracy: 0.9827\n",
      "Epoch 5/5\n",
      "540/540 - 12s - loss: 0.0410 - accuracy: 0.9873 - val_loss: 0.0422 - val_accuracy: 0.9865\n"
     ]
    },
    {
     "data": {
      "text/plain": [
       "<tensorflow.python.keras.callbacks.History at 0x18880664af0>"
      ]
     },
     "execution_count": 10,
     "metadata": {},
     "output_type": "execute_result"
    }
   ],
   "source": [
    "num_epochs = 5\n",
    "\n",
    "\n",
    "model.fit(train_data, epochs= num_epochs, validation_data= (validation_inputs, validation_targets), verbose=2)"
   ]
  },
  {
   "cell_type": "markdown",
   "id": "16c4e86d",
   "metadata": {},
   "source": [
    "###  Test the Model"
   ]
  },
  {
   "cell_type": "code",
   "execution_count": 12,
   "id": "af3b0d8c",
   "metadata": {},
   "outputs": [
    {
     "name": "stdout",
     "output_type": "stream",
     "text": [
      "1/1 [==============================] - 2s 2s/step - loss: 0.0709 - accuracy: 0.9793\n",
      "Test loss:  0.07.  Test accuracy:  97.93%\n"
     ]
    }
   ],
   "source": [
    "test_loss, test_accuracy = model.evaluate(test_data)\n",
    "\n",
    "print('Test loss: {0: .2f}.  Test accuracy: {1: .2f}%' .format(test_loss, test_accuracy*100.))"
   ]
  },
  {
   "cell_type": "code",
   "execution_count": null,
   "id": "ba831035",
   "metadata": {},
   "outputs": [],
   "source": []
  }
 ],
 "metadata": {
  "kernelspec": {
   "display_name": "Python 3",
   "language": "python",
   "name": "python3"
  },
  "language_info": {
   "codemirror_mode": {
    "name": "ipython",
    "version": 3
   },
   "file_extension": ".py",
   "mimetype": "text/x-python",
   "name": "python",
   "nbconvert_exporter": "python",
   "pygments_lexer": "ipython3",
   "version": "3.8.11"
  }
 },
 "nbformat": 4,
 "nbformat_minor": 5
}
